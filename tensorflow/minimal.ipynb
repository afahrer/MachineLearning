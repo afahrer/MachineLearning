{
 "cells": [
  {
   "cell_type": "code",
   "execution_count": 1,
   "metadata": {
    "pycharm": {
     "is_executing": false,
     "name": "#%%\n"
    }
   },
   "outputs": [],
   "source": [
    "import numpy as np\n",
    "import matplotlib.pyplot as plt\n",
    "from mpl_toolkits.mplot3d import Axes3D\n"
   ]
  },
  {
   "cell_type": "code",
   "execution_count": 2,
   "metadata": {
    "pycharm": {
     "name": "#%%\n",
     "is_executing": false
    }
   },
   "outputs": [
    {
     "name": "stdout",
     "text": [
      "(100000, 2)\n"
     ],
     "output_type": "stream"
    }
   ],
   "source": [
    "observations = 100000\n",
    "xs=np.random.uniform(low=-10, high=10,size=(observations,1))\n",
    "zs=np.random.uniform(-10, 10,(observations,1))\n",
    "\n",
    "inputs = np.column_stack((xs,zs))\n",
    "\n",
    "print(inputs.shape)"
   ]
  },
  {
   "cell_type": "code",
   "execution_count": 3,
   "metadata": {
    "pycharm": {
     "is_executing": false
    }
   },
   "outputs": [],
   "source": [
    "noise = np.random.uniform(-1,1,(observations,1))\n",
    "targets = 2 * xs - 3 * zs + 5  + noise\n"
   ]
  },
  {
   "cell_type": "code",
   "execution_count": 4,
   "outputs": [],
   "source": [
    "init_range = 0.1\n",
    "weights = np.random.uniform(-init_range,init_range,size=(2,1))\n",
    "biases = np.random.uniform(-init_range,init_range,size=1)\n"
   ],
   "metadata": {
    "collapsed": false,
    "pycharm": {
     "name": "#%%\n",
     "is_executing": false
    }
   }
  },
  {
   "cell_type": "code",
   "execution_count": 5,
   "outputs": [],
   "source": [
    "learning_rate = 0.01"
   ],
   "metadata": {
    "collapsed": false,
    "pycharm": {
     "name": "#%%\n",
     "is_executing": false
    }
   }
  },
  {
   "cell_type": "code",
   "execution_count": 6,
   "outputs": [
    {
     "name": "stdout",
     "text": [
      "240.48117970837455\n114.04669856342626\n57.77966849023925\n32.739193655288474\n21.59544691975096\n16.636151122996964\n14.429117762396015\n13.446922377016941\n13.009816156246552\n12.815290812362417\n12.728721194017961\n12.69019510526219\n12.673049830640396\n12.665419663035555\n12.662024006019688\n12.660512834834645\n12.659840317290774\n12.659541026274992\n12.659407832523847\n12.6593485571737\n12.659322177797943\n12.659310438151744\n12.659305213641183\n12.659302888569627\n12.659301853839384\n12.659301393351644\n12.659301188419958\n12.65930109721882\n12.659301056631394\n12.659301038568682\n12.659301030530195\n12.659301026952809\n12.659301025360755\n12.65930102465224\n12.659301024336928\n12.659301024196601\n12.659301024134155\n12.659301024106359\n12.659301024093992\n12.659301024088487\n12.659301024086037\n12.659301024084948\n12.659301024084463\n12.659301024084247\n12.659301024084154\n12.65930102408411\n12.659301024084089\n12.659301024084082\n12.659301024084078\n12.659301024084078\n12.659301024084074\n12.659301024084073\n12.659301024084074\n12.659301024084073\n12.659301024084078\n12.659301024084073\n12.659301024084074\n12.659301024084073\n12.659301024084073\n12.659301024084073\n12.659301024084073\n12.659301024084074\n12.659301024084073\n12.659301024084074\n12.659301024084074\n12.659301024084074\n12.659301024084078\n12.659301024084078\n12.659301024084074\n12.659301024084074\n12.659301024084074\n12.659301024084074\n12.659301024084073\n12.659301024084073\n12.659301024084074\n12.659301024084074\n12.659301024084074\n12.659301024084073\n12.659301024084078\n12.659301024084078\n12.659301024084078\n12.659301024084078\n12.659301024084074\n12.659301024084074\n12.659301024084074\n12.659301024084074\n12.659301024084074\n12.659301024084074\n12.659301024084074\n12.659301024084074\n12.659301024084074\n12.659301024084074\n12.659301024084074\n12.659301024084074\n12.659301024084074\n12.659301024084074\n12.659301024084074\n12.659301024084074\n12.659301024084074\n12.659301024084074\n"
     ],
     "output_type": "stream"
    }
   ],
   "source": [
    "for i in range (100):\n",
    "    outputs = np.dot(inputs,weights)\n",
    "    deltas = outputs - targets\n",
    "    loss = np.sum(deltas ** 2) / 2 / observations\n",
    "    print(loss)\n",
    "    deltas_scaled = deltas / observations\n",
    "    weights = weights - learning_rate * np.dot(inputs.T,deltas_scaled)\n",
    "    biases = biases - learning_rate * np.sum(deltas_scaled)"
   ],
   "metadata": {
    "collapsed": false,
    "pycharm": {
     "name": "#%%\n",
     "is_executing": false
    }
   }
  },
  {
   "cell_type": "code",
   "execution_count": 7,
   "outputs": [
    {
     "name": "stdout",
     "text": [
      "[[ 1.99746035]\n [-2.99845054]]\n[5.07017203]\n"
     ],
     "output_type": "stream"
    }
   ],
   "source": [
    "print(weights)\n",
    "print(biases)\n",
    "\n"
   ],
   "metadata": {
    "collapsed": false,
    "pycharm": {
     "name": "#%%\n",
     "is_executing": false
    }
   }
  },
  {
   "cell_type": "code",
   "execution_count": 8,
   "outputs": [
    {
     "data": {
      "text/plain": "<Figure size 432x288 with 1 Axes>",
      "image/png": "[encoded data removed]"
     },
     "metadata": {
      "needs_background": "light"
     },
     "output_type": "display_data"
    }
   ],
   "source": [
    "plt.plot(outputs,targets)\n",
    "plt.xlabel('Outputs')\n",
    "plt.ylabel('Targets')\n",
    "plt.show()\n",
    "\n"
   ],
   "metadata": {
    "collapsed": false,
    "pycharm": {
     "name": "#%%\n",
     "is_executing": false
    }
   }
  }
 ],
 "metadata": {
  "kernelspec": {
   "name": "pycharm-28566a82",
   "language": "python",
   "display_name": "PyCharm (MachineLearning)"
  },
  "language_info": {
   "codemirror_mode": {
    "name": "ipython",
    "version": 3
   },
   "file_extension": ".py",
   "mimetype": "text/x-python",
   "name": "python",
   "nbconvert_exporter": "python",
   "pygments_lexer": "ipython3",
   "version": "3.7.3"
  },
  "pycharm": {
   "stem_cell": {
    "cell_type": "raw",
    "source": [],
    "metadata": {
     "collapsed": false
    }
   }
  }
 },
 "nbformat": 4,
 "nbformat_minor": 1
}